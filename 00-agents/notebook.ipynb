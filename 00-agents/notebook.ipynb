{
 "cells": [
  {
   "cell_type": "code",
   "execution_count": 1,
   "id": "2c392a9c",
   "metadata": {},
   "outputs": [],
   "source": [
    "import random\n",
    "known_weather_data = {\n",
    "    'berlin': 20.0\n",
    "}\n",
    "def get_weather(city: str) -> float:\n",
    "    city = city.strip().lower()\n",
    "\n",
    "    if city in known_weather_data:\n",
    "        return known_weather_data[city]\n",
    "    return round(random.uniform(-5, 35), 1)"
   ]
  },
  {
   "cell_type": "code",
   "execution_count": 2,
   "id": "ae0f885f",
   "metadata": {},
   "outputs": [],
   "source": [
    "get_weather_tool = {\n",
    "    \"type\": \"function\",\n",
    "    \"name\": \"get_weather\",\n",
    "    \"description\": \"Get the current temperature for a specified city\",\n",
    "    \"parameters\": {\n",
    "        \"type\": \"object\",\n",
    "        \"properties\": {\n",
    "            \"city\": {\n",
    "                \"type\": \"string\",\n",
    "                \"description\": \"The name of the city for which to retrieve the temperature\"\n",
    "            }\n",
    "        },\n",
    "        \"required\": [\"city\"],\n",
    "        \"additionalProperties\": False\n",
    "    }\n",
    "}"
   ]
  },
  {
   "cell_type": "code",
   "execution_count": 3,
   "id": "027746ec",
   "metadata": {},
   "outputs": [],
   "source": [
    "set_weather_tool = {\n",
    "    \"type\": \"function\",\n",
    "    \"name\": \"set_weather\",\n",
    "    \"description\": \"Set the temperature for a specified city\",\n",
    "    \"parameters\": {\n",
    "        \"type\": \"object\",\n",
    "        \"properties\": {\n",
    "            \"city\": {\n",
    "                \"type\": \"string\",\n",
    "                \"description\": \"The name of the city for which to set the temperature\"\n",
    "            },\n",
    "            \"temp\": {\n",
    "                \"type\": \"number\",\n",
    "                \"description\": \"The temperature value to set for the city\"\n",
    "            }\n",
    "        },\n",
    "        \"required\": [\"city\", \"temp\"],\n",
    "        \"additionalProperties\": False\n",
    "    }\n",
    "}"
   ]
  },
  {
   "cell_type": "code",
   "execution_count": 4,
   "id": "ff918a41",
   "metadata": {},
   "outputs": [
    {
     "name": "stdout",
     "output_type": "stream",
     "text": [
      "2.10.4\n"
     ]
    }
   ],
   "source": [
    "import fastmcp\n",
    "print(fastmcp.__version__)"
   ]
  },
  {
   "cell_type": "code",
   "execution_count": 16,
   "id": "1a2974cb",
   "metadata": {},
   "outputs": [
    {
     "name": "stdout",
     "output_type": "stream",
     "text": [
      "weather_server.py file created successfully\n",
      "Server output: Traceback (most recent call last):\n",
      "\n",
      "Couldn't extract transport type from output. The full output was:\n",
      "Traceback (most recent call last):\n"
     ]
    }
   ],
   "source": [
    "# Create the weather_server.py file without emoji\n",
    "with open('weather_server.py', 'w', encoding='utf-8') as f:\n",
    "    f.write('''import random\n",
    "from fastmcp import FastMCP\n",
    "\n",
    "known_weather_data = {\n",
    "    'berlin': 20.0\n",
    "}\n",
    "\n",
    "# Use plain text instead of emoji\n",
    "mcp = FastMCP(\"Demo Server\")\n",
    "\n",
    "@mcp.tool\n",
    "def get_weather(city: str) -> float:\n",
    "    \"\"\"\n",
    "    Retrieves the temperature for a specified city.\n",
    "\n",
    "    Parameters:\n",
    "        city (str): The name of the city for which to retrieve weather data.\n",
    "\n",
    "    Returns:\n",
    "        float: The temperature associated with the city.\n",
    "    \"\"\"\n",
    "    city = city.strip().lower()\n",
    "\n",
    "    if city in known_weather_data:\n",
    "        return known_weather_data[city]\n",
    "\n",
    "    return round(random.uniform(-5, 35), 1)\n",
    "\n",
    "\n",
    "@mcp.tool\n",
    "def set_weather(city: str, temp: float) -> str:\n",
    "    \"\"\"\n",
    "    Sets the temperature for a specified city.\n",
    "\n",
    "    Parameters:\n",
    "        city (str): The name of the city for which to set the weather data.\n",
    "        temp (float): The temperature to associate with the city.\n",
    "\n",
    "    Returns:\n",
    "        str: A confirmation string 'OK' indicating successful update.\n",
    "    \"\"\"\n",
    "    city = city.strip().lower()\n",
    "    known_weather_data[city] = temp\n",
    "    return 'OK'\n",
    "\n",
    "if __name__ == \"__main__\":\n",
    "    mcp.run()\n",
    "''')\n",
    "\n",
    "print(\"weather_server.py file created successfully\")\n",
    "\n",
    "# Now run the server in a subprocess and capture the initial output\n",
    "import subprocess\n",
    "import time\n",
    "import sys\n",
    "\n",
    "# Start the server process\n",
    "server_process = subprocess.Popen(\n",
    "    [\"python\", \"weather_server.py\"],\n",
    "    stdout=subprocess.PIPE,\n",
    "    stderr=subprocess.PIPE,\n",
    "    text=True\n",
    ")\n",
    "\n",
    "# Give it a moment to start\n",
    "time.sleep(1)\n",
    "\n",
    "# Read the initial output from stderr (where FastMCP prints its startup message)\n",
    "initial_output = server_process.stderr.readline().strip()\n",
    "print(\"Server output:\", initial_output)\n",
    "\n",
    "# Terminate the server process after capturing the output\n",
    "server_process.terminate()\n",
    "server_process.wait()\n",
    "\n",
    "# Extract the transport type from the output\n",
    "import re\n",
    "transport_match = re.search(r\"transport '(\\w+)'\", initial_output)\n",
    "if transport_match:\n",
    "    transport_type = transport_match.group(1)\n",
    "    print(f\"\\nThe transport type is: '{transport_type}'\")\n",
    "    print(f\"\\nAnswer for Q4: {transport_type}\")\n",
    "else:\n",
    "    print(\"\\nCouldn't extract transport type from output. The full output was:\")\n",
    "    print(initial_output)"
   ]
  },
  {
   "cell_type": "code",
   "execution_count": 13,
   "id": "0f3bc5b4",
   "metadata": {},
   "outputs": [],
   "source": [
    "import asyncio\n",
    "from fastmcp import Client\n",
    "import weather_server  # Import our weather server module\n",
    "# For Jupyter notebook\n",
    "async def main():\n",
    "    async with Client(weather_server.mcp) as mcp_client:\n",
    "        tools = await mcp_client.tools.list()\n",
    "        print(tools)"
   ]
  },
  {
   "cell_type": "code",
   "execution_count": null,
   "id": "00a9691a",
   "metadata": {},
   "outputs": [],
   "source": []
  }
 ],
 "metadata": {
  "kernelspec": {
   "display_name": ".venv",
   "language": "python",
   "name": "python3"
  },
  "language_info": {
   "codemirror_mode": {
    "name": "ipython",
    "version": 3
   },
   "file_extension": ".py",
   "mimetype": "text/x-python",
   "name": "python",
   "nbconvert_exporter": "python",
   "pygments_lexer": "ipython3",
   "version": "3.11.4"
  }
 },
 "nbformat": 4,
 "nbformat_minor": 5
}
