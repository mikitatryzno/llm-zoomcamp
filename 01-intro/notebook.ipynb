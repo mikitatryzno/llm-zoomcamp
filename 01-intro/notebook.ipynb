{
 "cells": [
  {
   "cell_type": "code",
   "execution_count": 3,
   "id": "e2a1a055",
   "metadata": {},
   "outputs": [
    {
     "name": "stdout",
     "output_type": "stream",
     "text": [
      "Collecting requests\n",
      "  Downloading requests-2.32.3-py3-none-any.whl.metadata (4.6 kB)\n",
      "Collecting charset-normalizer<4,>=2 (from requests)\n",
      "  Downloading charset_normalizer-3.4.2-cp311-cp311-win_amd64.whl.metadata (36 kB)\n",
      "Collecting idna<4,>=2.5 (from requests)\n",
      "  Downloading idna-3.10-py3-none-any.whl.metadata (10 kB)\n",
      "Requirement already satisfied: urllib3<3,>=1.21.1 in c:\\users\\mikita_tryzno\\downloads\\llm-zoomcamp-1\\.venv\\lib\\site-packages (from requests) (2.4.0)\n",
      "Requirement already satisfied: certifi>=2017.4.17 in c:\\users\\mikita_tryzno\\downloads\\llm-zoomcamp-1\\.venv\\lib\\site-packages (from requests) (2025.4.26)\n",
      "Downloading requests-2.32.3-py3-none-any.whl (64 kB)\n",
      "Downloading charset_normalizer-3.4.2-cp311-cp311-win_amd64.whl (105 kB)\n",
      "Downloading idna-3.10-py3-none-any.whl (70 kB)\n",
      "Installing collected packages: idna, charset-normalizer, requests\n",
      "\n",
      "   ---------------------------------------- 0/3 [idna]\n",
      "   ------------- -------------------------- 1/3 [charset-normalizer]\n",
      "   -------------------------- ------------- 2/3 [requests]\n",
      "   ---------------------------------------- 3/3 [requests]\n",
      "\n",
      "Successfully installed charset-normalizer-3.4.2 idna-3.10 requests-2.32.3\n",
      "Note: you may need to restart the kernel to use updated packages.\n"
     ]
    }
   ],
   "source": [
    "pip install requests"
   ]
  },
  {
   "cell_type": "code",
   "execution_count": 9,
   "id": "5a4e7c16",
   "metadata": {},
   "outputs": [
    {
     "name": "stdout",
     "output_type": "stream",
     "text": [
      "Found existing installation: elasticsearch 9.0.1\n",
      "Uninstalling elasticsearch-9.0.1:\n",
      "  Successfully uninstalled elasticsearch-9.0.1\n",
      "Note: you may need to restart the kernel to use updated packages.\n"
     ]
    }
   ],
   "source": [
    "pip uninstall -y elasticsearch"
   ]
  },
  {
   "cell_type": "code",
   "execution_count": 11,
   "id": "8e7f8b36",
   "metadata": {},
   "outputs": [
    {
     "name": "stdout",
     "output_type": "stream",
     "text": [
      "Collecting elasticsearch==8.18.0\n",
      "  Downloading elasticsearch-8.18.0-py3-none-any.whl.metadata (9.2 kB)\n",
      "Requirement already satisfied: elastic-transport<9,>=8.15.1 in c:\\users\\mikita_tryzno\\downloads\\llm-zoomcamp-1\\.venv\\lib\\site-packages (from elasticsearch==8.18.0) (8.17.1)\n",
      "Requirement already satisfied: python-dateutil in c:\\users\\mikita_tryzno\\downloads\\llm-zoomcamp-1\\.venv\\lib\\site-packages (from elasticsearch==8.18.0) (2.9.0.post0)\n",
      "Requirement already satisfied: typing-extensions in c:\\users\\mikita_tryzno\\downloads\\llm-zoomcamp-1\\.venv\\lib\\site-packages (from elasticsearch==8.18.0) (4.14.0)\n",
      "Requirement already satisfied: urllib3<3,>=1.26.2 in c:\\users\\mikita_tryzno\\downloads\\llm-zoomcamp-1\\.venv\\lib\\site-packages (from elastic-transport<9,>=8.15.1->elasticsearch==8.18.0) (2.4.0)\n",
      "Requirement already satisfied: certifi in c:\\users\\mikita_tryzno\\downloads\\llm-zoomcamp-1\\.venv\\lib\\site-packages (from elastic-transport<9,>=8.15.1->elasticsearch==8.18.0) (2025.4.26)\n",
      "Requirement already satisfied: six>=1.5 in c:\\users\\mikita_tryzno\\downloads\\llm-zoomcamp-1\\.venv\\lib\\site-packages (from python-dateutil->elasticsearch==8.18.0) (1.17.0)\n",
      "Downloading elasticsearch-8.18.0-py3-none-any.whl (895 kB)\n",
      "   ---------------------------------------- 0.0/895.2 kB ? eta -:--:--\n",
      "   ---------------------------------------- 0.0/895.2 kB ? eta -:--:--\n",
      "   ----------- ---------------------------- 262.1/895.2 kB ? eta -:--:--\n",
      "   ----------------------- ---------------- 524.3/895.2 kB 1.2 MB/s eta 0:00:01\n",
      "   ---------------------------------------- 895.2/895.2 kB 1.2 MB/s eta 0:00:00\n",
      "Installing collected packages: elasticsearch\n",
      "Successfully installed elasticsearch-8.18.0\n",
      "Note: you may need to restart the kernel to use updated packages.\n"
     ]
    }
   ],
   "source": [
    "pip install elasticsearch==8.18.0"
   ]
  },
  {
   "cell_type": "code",
   "execution_count": 2,
   "id": "d80c76ef",
   "metadata": {},
   "outputs": [
    {
     "name": "stdout",
     "output_type": "stream",
     "text": [
      "Connected to Elasticsearch: True\n"
     ]
    }
   ],
   "source": [
    "from elasticsearch import Elasticsearch\n",
    "\n",
    "# For Elasticsearch 8.x\n",
    "es = Elasticsearch(\"http://localhost:9200\")\n",
    "\n",
    "# Check connection\n",
    "print(f\"Connected to Elasticsearch: {es.ping()}\")"
   ]
  },
  {
   "cell_type": "code",
   "execution_count": 1,
   "id": "4998e1f9",
   "metadata": {},
   "outputs": [
    {
     "name": "stdout",
     "output_type": "stream",
     "text": [
      "Elasticsearch Python client version: (8, 18, 0)\n"
     ]
    }
   ],
   "source": [
    "# Check your elasticsearch Python package version\n",
    "import elasticsearch\n",
    "print(f\"Elasticsearch Python client version: {elasticsearch.__version__}\")"
   ]
  },
  {
   "cell_type": "code",
   "execution_count": 4,
   "id": "926f3d77",
   "metadata": {},
   "outputs": [
    {
     "name": "stdout",
     "output_type": "stream",
     "text": [
      "Number of courses: 3\n",
      "Sample course: data-engineering-zoomcamp\n",
      "Sample document: {\n",
      "  \"text\": \"The purpose of this document is to capture frequently asked technical questions\\nThe exact day and hour of the course will be 15th Jan 2024 at 17h00. The course will start with the first  \\u201cOffice Hours'' live.1\\nSubscribe to course public Google Calendar (it works from Desktop only).\\nRegister before the course starts using this link.\\nJoin the course Telegram channel with announcements.\\nDon\\u2019t forget to register in DataTalks.Club's Slack and join the channel.\",\n",
      "  \"section\": \"General course-related questions\",\n",
      "  \"question\": \"Course - When will the course start?\"\n",
      "}\n",
      "Total documents: 948\n"
     ]
    }
   ],
   "source": [
    "import requests \n",
    "from elasticsearch import Elasticsearch\n",
    "import json\n",
    "\n",
    "# Get the documents\n",
    "docs_url = 'https://github.com/DataTalksClub/llm-zoomcamp/blob/main/01-intro/documents.json?raw=1'\n",
    "docs_response = requests.get(docs_url)\n",
    "documents_raw = docs_response.json()\n",
    "\n",
    "# Display the structure of the data (helpful in VS Code)\n",
    "print(f\"Number of courses: {len(documents_raw)}\")\n",
    "print(f\"Sample course: {documents_raw[0]['course']}\")\n",
    "print(f\"Sample document: {json.dumps(documents_raw[0]['documents'][0], indent=2)}\")\n",
    "\n",
    "# Process the documents\n",
    "documents = []\n",
    "for course in documents_raw:\n",
    "    course_name = course['course']\n",
    "    for doc in course['documents']:\n",
    "        doc['course'] = course_name\n",
    "        documents.append(doc)\n",
    "\n",
    "print(f\"Total documents: {len(documents)}\")"
   ]
  },
  {
   "cell_type": "code",
   "execution_count": 5,
   "id": "3eb9c688",
   "metadata": {},
   "outputs": [
    {
     "name": "stdout",
     "output_type": "stream",
     "text": [
      "Connected to Elasticsearch\n",
      "Deleted existing index: faq_documents\n",
      "Created index: faq_documents\n",
      "Indexed 50/948 documents\n",
      "Indexed 100/948 documents\n",
      "Indexed 150/948 documents\n",
      "Indexed 200/948 documents\n",
      "Indexed 250/948 documents\n",
      "Indexed 300/948 documents\n",
      "Indexed 350/948 documents\n",
      "Indexed 400/948 documents\n",
      "Indexed 450/948 documents\n",
      "Indexed 500/948 documents\n",
      "Indexed 550/948 documents\n",
      "Indexed 600/948 documents\n",
      "Indexed 650/948 documents\n",
      "Indexed 700/948 documents\n",
      "Indexed 750/948 documents\n",
      "Indexed 800/948 documents\n",
      "Indexed 850/948 documents\n",
      "Indexed 900/948 documents\n",
      "Indexed all 948 documents\n"
     ]
    }
   ],
   "source": [
    "# Connect to Elasticsearch\n",
    "es = Elasticsearch(\"http://localhost:9200\")\n",
    "\n",
    "# Check if connection is successful\n",
    "if es.ping():\n",
    "    print(\"Connected to Elasticsearch\")\n",
    "else:\n",
    "    print(\"Could not connect to Elasticsearch\")\n",
    "    # If you're having connection issues, make sure Elasticsearch is running\n",
    "    # and check if there are any network restrictions\n",
    "\n",
    "# Define index settings\n",
    "index_settings = {\n",
    "    \"settings\": {\n",
    "        \"number_of_shards\": 1,\n",
    "        \"number_of_replicas\": 0\n",
    "    },\n",
    "    \"mappings\": {\n",
    "        \"properties\": {\n",
    "            \"text\": {\"type\": \"text\"},\n",
    "            \"section\": {\"type\": \"text\"},\n",
    "            \"question\": {\"type\": \"text\"},\n",
    "            \"course\": {\"type\": \"keyword\"} \n",
    "        }\n",
    "    }\n",
    "}\n",
    "\n",
    "# Create the index\n",
    "index_name = \"faq_documents\"\n",
    "\n",
    "# Delete the index if it already exists (optional)\n",
    "if es.indices.exists(index=index_name):\n",
    "    es.indices.delete(index=index_name)\n",
    "    print(f\"Deleted existing index: {index_name}\")\n",
    "\n",
    "# Create the index\n",
    "es.indices.create(index=index_name, body=index_settings)\n",
    "print(f\"Created index: {index_name}\")\n",
    "\n",
    "# Index the documents\n",
    "for i, doc in enumerate(documents):\n",
    "    es.index(index=index_name, id=i, document=doc)\n",
    "    \n",
    "    # Print progress every 50 documents (helpful in VS Code)\n",
    "    if (i + 1) % 50 == 0:\n",
    "        print(f\"Indexed {i + 1}/{len(documents)} documents\")\n",
    "\n",
    "print(f\"Indexed all {len(documents)} documents\")"
   ]
  },
  {
   "cell_type": "code",
   "execution_count": null,
   "id": "a78646e6",
   "metadata": {},
   "outputs": [
    {
     "name": "stdout",
     "output_type": "stream",
     "text": [
      "Total hits: 739\n",
      "\n",
      "Top 5 results:\n",
      "\n",
      "Result 1:\n",
      "Score: 44.50556\n",
      "Course: machine-learning-zoomcamp\n",
      "Question: How do I debug a docker container?\n",
      "Text: Launch the container image in interactive mode and overriding the entrypoint, so that it starts a ba...\n",
      "\n",
      "Result 2:\n",
      "Score: 35.433445\n",
      "Course: machine-learning-zoomcamp\n",
      "Question: Kubernetes-dashboard\n",
      "Text: Deploy and Access the Kubernetes Dashboard\n",
      "Luke...\n",
      "\n",
      "Result 3:\n",
      "Score: 33.70974\n",
      "Course: machine-learning-zoomcamp\n",
      "Question: How do I copy files from a different folder into docker container’s working directory?\n",
      "Text: You can copy files from your local machine into a Docker container using the docker cp command. Here...\n",
      "\n",
      "Result 4:\n",
      "Score: 33.2635\n",
      "Course: machine-learning-zoomcamp\n",
      "Question: How to run a script while a web-server is working?\n",
      "Text: Problem description:\n",
      "I started a web-server in terminal (command window, powershell, etc.). How can ...\n",
      "\n",
      "Result 5:\n",
      "Score: 32.589073\n",
      "Course: machine-learning-zoomcamp\n",
      "Question: How can I annotate a graph?\n",
      "Text: Matplotlib has a cool method to annotate where you could provide an X,Y point and annotate with an a...\n",
      "\n",
      "Top score (answer to Q3): 44.50556\n"
     ]
    }
   ],
   "source": [
    "query = \"How do execute a command on a Kubernetes pod?\"\n",
    "search_query = {\n",
    "    \"size\": 5,\n",
    "    \"query\": {\n",
    "        \"multi_match\": {\n",
    "            \"query\": query,\n",
    "            \"fields\": [\"question^4\", \"text\"],\n",
    "            \"type\": \"best_fields\"\n",
    "        }\n",
    "    }\n",
    "}\n",
    "response = es.search(index=index_name, body=search_query)\n",
    "# Print the results in a readable format\n",
    "print(f\"Total hits: {response['hits']['total']['value']}\")\n",
    "print(\"\\nTop 5 results:\")\n",
    "for i, hit in enumerate(response['hits']['hits']):\n",
    "    print(f\"\\nResult {i+1}:\")\n",
    "    print(f\"Score: {hit['_score']}\")\n",
    "    print(f\"Course: {hit['_source']['course']}\")\n",
    "    print(f\"Question: {hit['_source']['question']}\")\n",
    "    print(f\"Text: {hit['_source']['text'][:100]}...\")  # Show first 100 chars\n",
    "# Print the top result score\n",
    "top_score = response['hits']['hits'][0]['_score']\n",
    "print(f\"\\nTop score (answer to Q3): {top_score}\")"
   ]
  },
  {
   "cell_type": "code",
   "execution_count": 7,
   "id": "6efc59de",
   "metadata": {},
   "outputs": [
    {
     "name": "stdout",
     "output_type": "stream",
     "text": [
      "Total hits: 340\n",
      "\n",
      "Top 3 results from machine-learning-zoomcamp:\n",
      "\n",
      "Result 1:\n",
      "Score: 73.38676\n",
      "Question: How do I debug a docker container?\n",
      "Text: Launch the container image in interactive mode and overriding the entrypoint, so that it starts a ba...\n",
      "\n",
      "Result 2:\n",
      "Score: 66.688705\n",
      "Question: How do I copy files from my local machine to docker container?\n",
      "Text: You can copy files from your local machine into a Docker container using the docker cp command. Here...\n",
      "\n",
      "Result 3:\n",
      "Score: 59.812744\n",
      "Question: How do I copy files from a different folder into docker container’s working directory?\n",
      "Text: You can copy files from your local machine into a Docker container using the docker cp command. Here...\n",
      "\n",
      "Third question (answer to Q4): How do I copy files from a different folder into docker container’s working directory?\n"
     ]
    }
   ],
   "source": [
    "query = \"How do copy a file to a Docker container?\"\n",
    "search_query = {\n",
    "    \"size\": 3,\n",
    "    \"query\": {\n",
    "        \"bool\": {\n",
    "            \"must\": {\n",
    "                \"multi_match\": {\n",
    "                    \"query\": query,\n",
    "                    \"fields\": [\"question^4\", \"text\"],\n",
    "                    \"type\": \"best_fields\"\n",
    "                }\n",
    "            },\n",
    "            \"filter\": {\n",
    "                \"term\": {\n",
    "                    \"course\": \"machine-learning-zoomcamp\"\n",
    "                }\n",
    "            }\n",
    "        }\n",
    "    }\n",
    "}\n",
    "response = es.search(index=index_name, body=search_query)\n",
    "# Print the results in a readable format\n",
    "print(f\"Total hits: {response['hits']['total']['value']}\")\n",
    "print(\"\\nTop 3 results from machine-learning-zoomcamp:\")\n",
    "for i, hit in enumerate(response['hits']['hits']):\n",
    "    print(f\"\\nResult {i+1}:\")\n",
    "    print(f\"Score: {hit['_score']}\")\n",
    "    print(f\"Question: {hit['_source']['question']}\")\n",
    "    print(f\"Text: {hit['_source']['text'][:100]}...\")  # Show first 100 chars\n",
    "# Store the results for use in Q5\n",
    "filtered_results = response['hits']['hits']\n",
    "# Print the 3rd question specifically for Q4\n",
    "if len(filtered_results) >= 3:\n",
    "    third_question = filtered_results[2]['_source']['question']\n",
    "    print(f\"\\nThird question (answer to Q4): {third_question}\")\n",
    "else:\n",
    "    print(\"\\nLess than 3 results returned\")"
   ]
  }
 ],
 "metadata": {
  "kernelspec": {
   "display_name": ".venv",
   "language": "python",
   "name": "python3"
  },
  "language_info": {
   "codemirror_mode": {
    "name": "ipython",
    "version": 3
   },
   "file_extension": ".py",
   "mimetype": "text/x-python",
   "name": "python",
   "nbconvert_exporter": "python",
   "pygments_lexer": "ipython3",
   "version": "3.11.4"
  }
 },
 "nbformat": 4,
 "nbformat_minor": 5
}
